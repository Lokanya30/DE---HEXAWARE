{
  "nbformat": 4,
  "nbformat_minor": 0,
  "metadata": {
    "colab": {
      "provenance": []
    },
    "kernelspec": {
      "name": "python3",
      "display_name": "Python 3"
    },
    "language_info": {
      "name": "python"
    }
  },
  "cells": [
    {
      "cell_type": "code",
      "execution_count": 1,
      "metadata": {
        "colab": {
          "base_uri": "https://localhost:8080/",
          "height": 108
        },
        "id": "aV9EhdDts1zS",
        "outputId": "54e986bf-bcdb-475d-ad02-5d7e1d7452ec"
      },
      "outputs": [
        {
          "output_type": "display_data",
          "data": {
            "text/plain": [
              "<IPython.core.display.HTML object>"
            ],
            "text/html": [
              "\n",
              "     <input type=\"file\" id=\"files-eb689aae-16a1-4e94-82c6-cebfaa789d76\" name=\"files[]\" multiple disabled\n",
              "        style=\"border:none\" />\n",
              "     <output id=\"result-eb689aae-16a1-4e94-82c6-cebfaa789d76\">\n",
              "      Upload widget is only available when the cell has been executed in the\n",
              "      current browser session. Please rerun this cell to enable.\n",
              "      </output>\n",
              "      <script>// Copyright 2017 Google LLC\n",
              "//\n",
              "// Licensed under the Apache License, Version 2.0 (the \"License\");\n",
              "// you may not use this file except in compliance with the License.\n",
              "// You may obtain a copy of the License at\n",
              "//\n",
              "//      http://www.apache.org/licenses/LICENSE-2.0\n",
              "//\n",
              "// Unless required by applicable law or agreed to in writing, software\n",
              "// distributed under the License is distributed on an \"AS IS\" BASIS,\n",
              "// WITHOUT WARRANTIES OR CONDITIONS OF ANY KIND, either express or implied.\n",
              "// See the License for the specific language governing permissions and\n",
              "// limitations under the License.\n",
              "\n",
              "/**\n",
              " * @fileoverview Helpers for google.colab Python module.\n",
              " */\n",
              "(function(scope) {\n",
              "function span(text, styleAttributes = {}) {\n",
              "  const element = document.createElement('span');\n",
              "  element.textContent = text;\n",
              "  for (const key of Object.keys(styleAttributes)) {\n",
              "    element.style[key] = styleAttributes[key];\n",
              "  }\n",
              "  return element;\n",
              "}\n",
              "\n",
              "// Max number of bytes which will be uploaded at a time.\n",
              "const MAX_PAYLOAD_SIZE = 100 * 1024;\n",
              "\n",
              "function _uploadFiles(inputId, outputId) {\n",
              "  const steps = uploadFilesStep(inputId, outputId);\n",
              "  const outputElement = document.getElementById(outputId);\n",
              "  // Cache steps on the outputElement to make it available for the next call\n",
              "  // to uploadFilesContinue from Python.\n",
              "  outputElement.steps = steps;\n",
              "\n",
              "  return _uploadFilesContinue(outputId);\n",
              "}\n",
              "\n",
              "// This is roughly an async generator (not supported in the browser yet),\n",
              "// where there are multiple asynchronous steps and the Python side is going\n",
              "// to poll for completion of each step.\n",
              "// This uses a Promise to block the python side on completion of each step,\n",
              "// then passes the result of the previous step as the input to the next step.\n",
              "function _uploadFilesContinue(outputId) {\n",
              "  const outputElement = document.getElementById(outputId);\n",
              "  const steps = outputElement.steps;\n",
              "\n",
              "  const next = steps.next(outputElement.lastPromiseValue);\n",
              "  return Promise.resolve(next.value.promise).then((value) => {\n",
              "    // Cache the last promise value to make it available to the next\n",
              "    // step of the generator.\n",
              "    outputElement.lastPromiseValue = value;\n",
              "    return next.value.response;\n",
              "  });\n",
              "}\n",
              "\n",
              "/**\n",
              " * Generator function which is called between each async step of the upload\n",
              " * process.\n",
              " * @param {string} inputId Element ID of the input file picker element.\n",
              " * @param {string} outputId Element ID of the output display.\n",
              " * @return {!Iterable<!Object>} Iterable of next steps.\n",
              " */\n",
              "function* uploadFilesStep(inputId, outputId) {\n",
              "  const inputElement = document.getElementById(inputId);\n",
              "  inputElement.disabled = false;\n",
              "\n",
              "  const outputElement = document.getElementById(outputId);\n",
              "  outputElement.innerHTML = '';\n",
              "\n",
              "  const pickedPromise = new Promise((resolve) => {\n",
              "    inputElement.addEventListener('change', (e) => {\n",
              "      resolve(e.target.files);\n",
              "    });\n",
              "  });\n",
              "\n",
              "  const cancel = document.createElement('button');\n",
              "  inputElement.parentElement.appendChild(cancel);\n",
              "  cancel.textContent = 'Cancel upload';\n",
              "  const cancelPromise = new Promise((resolve) => {\n",
              "    cancel.onclick = () => {\n",
              "      resolve(null);\n",
              "    };\n",
              "  });\n",
              "\n",
              "  // Wait for the user to pick the files.\n",
              "  const files = yield {\n",
              "    promise: Promise.race([pickedPromise, cancelPromise]),\n",
              "    response: {\n",
              "      action: 'starting',\n",
              "    }\n",
              "  };\n",
              "\n",
              "  cancel.remove();\n",
              "\n",
              "  // Disable the input element since further picks are not allowed.\n",
              "  inputElement.disabled = true;\n",
              "\n",
              "  if (!files) {\n",
              "    return {\n",
              "      response: {\n",
              "        action: 'complete',\n",
              "      }\n",
              "    };\n",
              "  }\n",
              "\n",
              "  for (const file of files) {\n",
              "    const li = document.createElement('li');\n",
              "    li.append(span(file.name, {fontWeight: 'bold'}));\n",
              "    li.append(span(\n",
              "        `(${file.type || 'n/a'}) - ${file.size} bytes, ` +\n",
              "        `last modified: ${\n",
              "            file.lastModifiedDate ? file.lastModifiedDate.toLocaleDateString() :\n",
              "                                    'n/a'} - `));\n",
              "    const percent = span('0% done');\n",
              "    li.appendChild(percent);\n",
              "\n",
              "    outputElement.appendChild(li);\n",
              "\n",
              "    const fileDataPromise = new Promise((resolve) => {\n",
              "      const reader = new FileReader();\n",
              "      reader.onload = (e) => {\n",
              "        resolve(e.target.result);\n",
              "      };\n",
              "      reader.readAsArrayBuffer(file);\n",
              "    });\n",
              "    // Wait for the data to be ready.\n",
              "    let fileData = yield {\n",
              "      promise: fileDataPromise,\n",
              "      response: {\n",
              "        action: 'continue',\n",
              "      }\n",
              "    };\n",
              "\n",
              "    // Use a chunked sending to avoid message size limits. See b/62115660.\n",
              "    let position = 0;\n",
              "    do {\n",
              "      const length = Math.min(fileData.byteLength - position, MAX_PAYLOAD_SIZE);\n",
              "      const chunk = new Uint8Array(fileData, position, length);\n",
              "      position += length;\n",
              "\n",
              "      const base64 = btoa(String.fromCharCode.apply(null, chunk));\n",
              "      yield {\n",
              "        response: {\n",
              "          action: 'append',\n",
              "          file: file.name,\n",
              "          data: base64,\n",
              "        },\n",
              "      };\n",
              "\n",
              "      let percentDone = fileData.byteLength === 0 ?\n",
              "          100 :\n",
              "          Math.round((position / fileData.byteLength) * 100);\n",
              "      percent.textContent = `${percentDone}% done`;\n",
              "\n",
              "    } while (position < fileData.byteLength);\n",
              "  }\n",
              "\n",
              "  // All done.\n",
              "  yield {\n",
              "    response: {\n",
              "      action: 'complete',\n",
              "    }\n",
              "  };\n",
              "}\n",
              "\n",
              "scope.google = scope.google || {};\n",
              "scope.google.colab = scope.google.colab || {};\n",
              "scope.google.colab._files = {\n",
              "  _uploadFiles,\n",
              "  _uploadFilesContinue,\n",
              "};\n",
              "})(self);\n",
              "</script> "
            ]
          },
          "metadata": {}
        },
        {
          "output_type": "stream",
          "name": "stdout",
          "text": [
            "Saving departments.csv to departments.csv\n",
            "Saving employees.csv to employees.csv\n"
          ]
        }
      ],
      "source": [
        "from google.colab import files\n",
        "uploaded = files.upload()\n"
      ]
    },
    {
      "cell_type": "code",
      "source": [
        "!pip install pyspark\n",
        "\n",
        "from pyspark.sql import SparkSession\n",
        "spark = SparkSession.builder.appName(\"Assessment\").getOrCreate()\n",
        "\n",
        "# Load CSVs\n",
        "emp_df = spark.read.csv(\"employees.csv\", header=True, inferSchema=True)\n",
        "dept_df = spark.read.csv(\"departments.csv\", header=True, inferSchema=True)\n",
        "\n",
        "emp_df.show()\n",
        "dept_df.show()\n"
      ],
      "metadata": {
        "colab": {
          "base_uri": "https://localhost:8080/"
        },
        "id": "4s0SUYrws37f",
        "outputId": "656e3d18-3c19-4f34-be9a-bc9ca04e45a4"
      },
      "execution_count": 2,
      "outputs": [
        {
          "output_type": "stream",
          "name": "stdout",
          "text": [
            "Requirement already satisfied: pyspark in /usr/local/lib/python3.11/dist-packages (3.5.1)\n",
            "Requirement already satisfied: py4j==0.10.9.7 in /usr/local/lib/python3.11/dist-packages (from pyspark) (0.10.9.7)\n",
            "+------+--------+----------+------+---+\n",
            "|emp_id|emp_name|department|salary|age|\n",
            "+------+--------+----------+------+---+\n",
            "|     1|   Alice|        HR| 60000| 30|\n",
            "|     2|     Bob|        IT| 75000| 28|\n",
            "|     3| Charlie|        IT| 70000| 34|\n",
            "|     4|   David|   Finance| 80000| 40|\n",
            "|     5|     Eve|        HR| 65000| 25|\n",
            "|     6|   Frank|        IT| 90000| 38|\n",
            "|     7|   Grace|   Finance| 85000| 45|\n",
            "|     8|    Hank|        HR| 50000| 50|\n",
            "+------+--------+----------+------+---+\n",
            "\n",
            "+----------+---------+\n",
            "|department| location|\n",
            "+----------+---------+\n",
            "|        HR|  Chennai|\n",
            "|        IT|Bangalore|\n",
            "|   Finance|   Mumbai|\n",
            "+----------+---------+\n",
            "\n"
          ]
        }
      ]
    },
    {
      "cell_type": "code",
      "source": [
        "#TRANSFORMATIONS & ACTIONS\n",
        "#Filter: Employees with salary > 70000\n",
        "\n",
        "high_salary = emp_df.filter(emp_df.salary > 70000)\n",
        "high_salary.show()"
      ],
      "metadata": {
        "colab": {
          "base_uri": "https://localhost:8080/"
        },
        "id": "0koY0RlVtCZ6",
        "outputId": "3ac9efdc-95da-45c4-8d79-7db16ae33c4b"
      },
      "execution_count": 3,
      "outputs": [
        {
          "output_type": "stream",
          "name": "stdout",
          "text": [
            "+------+--------+----------+------+---+\n",
            "|emp_id|emp_name|department|salary|age|\n",
            "+------+--------+----------+------+---+\n",
            "|     2|     Bob|        IT| 75000| 28|\n",
            "|     4|   David|   Finance| 80000| 40|\n",
            "|     6|   Frank|        IT| 90000| 38|\n",
            "|     7|   Grace|   Finance| 85000| 45|\n",
            "+------+--------+----------+------+---+\n",
            "\n"
          ]
        }
      ]
    },
    {
      "cell_type": "code",
      "source": [
        "#Join: Join with department info\n",
        "\n",
        "joined_df = emp_df.join(dept_df, on=\"department\", how=\"inner\")\n",
        "joined_df.show()\n"
      ],
      "metadata": {
        "colab": {
          "base_uri": "https://localhost:8080/"
        },
        "id": "UcoK-RhjtZcV",
        "outputId": "f5f027e5-5905-44bb-e579-efc040f323e0"
      },
      "execution_count": 4,
      "outputs": [
        {
          "output_type": "stream",
          "name": "stdout",
          "text": [
            "+----------+------+--------+------+---+---------+\n",
            "|department|emp_id|emp_name|salary|age| location|\n",
            "+----------+------+--------+------+---+---------+\n",
            "|        HR|     1|   Alice| 60000| 30|  Chennai|\n",
            "|        IT|     2|     Bob| 75000| 28|Bangalore|\n",
            "|        IT|     3| Charlie| 70000| 34|Bangalore|\n",
            "|   Finance|     4|   David| 80000| 40|   Mumbai|\n",
            "|        HR|     5|     Eve| 65000| 25|  Chennai|\n",
            "|        IT|     6|   Frank| 90000| 38|Bangalore|\n",
            "|   Finance|     7|   Grace| 85000| 45|   Mumbai|\n",
            "|        HR|     8|    Hank| 50000| 50|  Chennai|\n",
            "+----------+------+--------+------+---+---------+\n",
            "\n"
          ]
        }
      ]
    },
    {
      "cell_type": "code",
      "source": [
        "#GroupBy + Aggregation: Total salary by department\n",
        "\n",
        "from pyspark.sql.functions import sum\n",
        "\n",
        "dept_salary = emp_df.groupBy(\"department\").agg(sum(\"salary\").alias(\"total_salary\"))\n",
        "dept_salary.show()\n"
      ],
      "metadata": {
        "colab": {
          "base_uri": "https://localhost:8080/"
        },
        "id": "CsJEQdcxtey4",
        "outputId": "6672b104-6cc1-4e8b-8775-58d9d5105452"
      },
      "execution_count": 5,
      "outputs": [
        {
          "output_type": "stream",
          "name": "stdout",
          "text": [
            "+----------+------------+\n",
            "|department|total_salary|\n",
            "+----------+------------+\n",
            "|        HR|      175000|\n",
            "|   Finance|      165000|\n",
            "|        IT|      235000|\n",
            "+----------+------------+\n",
            "\n"
          ]
        }
      ]
    },
    {
      "cell_type": "code",
      "source": [
        "#Simple Aggregation: Average Age\n",
        "\n",
        "from pyspark.sql.functions import avg\n",
        "\n",
        "emp_df.select(avg(\"age\").alias(\"avg_age\")).show()\n"
      ],
      "metadata": {
        "colab": {
          "base_uri": "https://localhost:8080/"
        },
        "id": "lW_YplYftlqY",
        "outputId": "3f6cd93f-41c3-424a-9945-27779ccffe92"
      },
      "execution_count": 6,
      "outputs": [
        {
          "output_type": "stream",
          "name": "stdout",
          "text": [
            "+-------+\n",
            "|avg_age|\n",
            "+-------+\n",
            "|  36.25|\n",
            "+-------+\n",
            "\n"
          ]
        }
      ]
    },
    {
      "cell_type": "code",
      "source": [
        "#Window Function: Rank employees by salary within department\n",
        "\n",
        "from pyspark.sql.window import Window\n",
        "from pyspark.sql.functions import rank\n",
        "\n",
        "windowSpec = Window.partitionBy(\"department\").orderBy(emp_df.salary.desc())\n",
        "ranked_df = emp_df.withColumn(\"rank\", rank().over(windowSpec))\n",
        "ranked_df.show()\n"
      ],
      "metadata": {
        "colab": {
          "base_uri": "https://localhost:8080/"
        },
        "id": "9r4i27Lhtslg",
        "outputId": "aa799463-ddb0-4021-ee4c-9d20602d10b1"
      },
      "execution_count": 7,
      "outputs": [
        {
          "output_type": "stream",
          "name": "stdout",
          "text": [
            "+------+--------+----------+------+---+----+\n",
            "|emp_id|emp_name|department|salary|age|rank|\n",
            "+------+--------+----------+------+---+----+\n",
            "|     7|   Grace|   Finance| 85000| 45|   1|\n",
            "|     4|   David|   Finance| 80000| 40|   2|\n",
            "|     5|     Eve|        HR| 65000| 25|   1|\n",
            "|     1|   Alice|        HR| 60000| 30|   2|\n",
            "|     8|    Hank|        HR| 50000| 50|   3|\n",
            "|     6|   Frank|        IT| 90000| 38|   1|\n",
            "|     2|     Bob|        IT| 75000| 28|   2|\n",
            "|     3| Charlie|        IT| 70000| 34|   3|\n",
            "+------+--------+----------+------+---+----+\n",
            "\n"
          ]
        }
      ]
    },
    {
      "cell_type": "code",
      "source": [
        "#sample actions\n",
        "\n",
        "print(\"Count:\", emp_df.count())\n",
        "print(\"First row:\", emp_df.first())\n"
      ],
      "metadata": {
        "colab": {
          "base_uri": "https://localhost:8080/"
        },
        "id": "Op3ta9I-t7TQ",
        "outputId": "a71d909c-e1ca-4172-a0ab-75f36e019394"
      },
      "execution_count": 9,
      "outputs": [
        {
          "output_type": "stream",
          "name": "stdout",
          "text": [
            "Count: 8\n",
            "First row: Row(emp_id=1, emp_name='Alice', department='HR', salary=60000, age=30)\n"
          ]
        }
      ]
    },
    {
      "cell_type": "code",
      "source": [],
      "metadata": {
        "id": "pq8FRFgouHZh"
      },
      "execution_count": null,
      "outputs": []
    }
  ]
}