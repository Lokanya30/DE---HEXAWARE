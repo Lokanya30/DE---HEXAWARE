{
 "cells": [
  {
   "cell_type": "code",
   "execution_count": 0,
   "metadata": {
    "application/vnd.databricks.v1+cell": {
     "cellMetadata": {
      "byteLimit": 2048000,
      "implicitDf": true,
      "rowLimit": 10000
     },
     "inputWidgets": {},
     "nuid": "caef0f32-016d-4503-bf0c-d9b64bdff4ab",
     "showTitle": false,
     "tableResultSettingsMap": {},
     "title": ""
    }
   },
   "outputs": [],
   "source": [
    "%sql\n",
    "CREATE SCHEMA IF NOT EXISTS hexa_files.default;\n"
   ]
  },
  {
   "cell_type": "code",
   "execution_count": 0,
   "metadata": {
    "application/vnd.databricks.v1+cell": {
     "cellMetadata": {
      "byteLimit": 2048000,
      "implicitDf": true,
      "rowLimit": 10000
     },
     "inputWidgets": {},
     "nuid": "f0d6cf7e-658b-4350-8135-bd3c6671d436",
     "showTitle": false,
     "tableResultSettingsMap": {},
     "title": ""
    }
   },
   "outputs": [
    {
     "output_type": "display_data",
     "data": {
      "text/html": [
       "<style scoped>\n",
       "  .table-result-container {\n",
       "    max-height: 300px;\n",
       "    overflow: auto;\n",
       "  }\n",
       "  table, th, td {\n",
       "    border: 1px solid black;\n",
       "    border-collapse: collapse;\n",
       "  }\n",
       "  th, td {\n",
       "    padding: 5px;\n",
       "  }\n",
       "  th {\n",
       "    text-align: left;\n",
       "  }\n",
       "</style><div class='table-result-container'><table class='table-result'><thead style='background-color: white'><tr><th>databaseName</th></tr></thead><tbody><tr><td>default</td></tr><tr><td>information_schema</td></tr></tbody></table></div>"
      ]
     },
     "metadata": {
      "application/vnd.databricks.v1+output": {
       "addedWidgets": {},
       "aggData": [],
       "aggError": "",
       "aggOverflow": false,
       "aggSchema": [],
       "aggSeriesLimitReached": false,
       "aggType": "",
       "arguments": {},
       "columnCustomDisplayInfos": {},
       "data": [
        [
         "default"
        ],
        [
         "information_schema"
        ]
       ],
       "datasetInfos": [
        {
         "name": "_sqldf",
         "schema": {
          "fields": [
           {
            "metadata": {},
            "name": "databaseName",
            "nullable": false,
            "type": "string"
           }
          ],
          "type": "struct"
         },
         "tableIdentifier": null,
         "typeStr": "pyspark.sql.connect.dataframe.DataFrame"
        }
       ],
       "dbfsResultPath": null,
       "isJsonSchema": true,
       "metadata": {
        "createTempViewForImplicitDf": true,
        "dataframeName": "_sqldf",
        "executionCount": 8
       },
       "overflow": false,
       "plotOptions": {
        "customPlotOptions": {},
        "displayType": "table",
        "pivotAggregation": null,
        "pivotColumns": null,
        "xColumns": null,
        "yColumns": null
       },
       "removedWidgets": [],
       "schema": [
        {
         "metadata": "{}",
         "name": "databaseName",
         "type": "\"string\""
        }
       ],
       "type": "table"
      }
     },
     "output_type": "display_data"
    }
   ],
   "source": [
    "%sql\n",
    "SHOW SCHEMAS IN hexa_files;\n"
   ]
  },
  {
   "cell_type": "code",
   "execution_count": 0,
   "metadata": {
    "application/vnd.databricks.v1+cell": {
     "cellMetadata": {
      "byteLimit": 2048000,
      "rowLimit": 10000
     },
     "inputWidgets": {},
     "nuid": "66a49fc3-f40b-4d45-a600-326e3c00dd8d",
     "showTitle": false,
     "tableResultSettingsMap": {},
     "title": ""
    }
   },
   "outputs": [],
   "source": [
    "from pyspark.sql.types import StructType, StructField, IntegerType, StringType, TimestampType\n",
    "\n",
    "schema = StructType([\n",
    "  StructField(\"id\", IntegerType(), True),\n",
    "  StructField(\"firstName\", StringType(), True),\n",
    "  StructField(\"middleName\", StringType(), True),\n",
    "  StructField(\"lastName\", StringType(), True),\n",
    "  StructField(\"gender\", StringType(), True),\n",
    "  StructField(\"birthDate\", TimestampType(), True),\n",
    "  StructField(\"ssn\", StringType(), True),\n",
    "  StructField(\"salary\", IntegerType(), True)\n",
    "])\n",
    "\n",
    "df = spark.read.format(\"csv\").option(\"header\", True).schema(schema).load(\"/Volumes/hexa_files/default/hexadata/export.csv\")\n",
    "\n",
    "# Create the table if it does not exist. Otherwise, replace the existing table.\n",
    "df.writeTo(\"hexa_files.default.people_10m\").createOrReplace()\n",
    "\n",
    "# If you know the table does not already exist, you can call this instead:\n",
    "# df.write.saveAsTable(\"main.default.people_10m\")"
   ]
  },
  {
   "cell_type": "code",
   "execution_count": 0,
   "metadata": {
    "application/vnd.databricks.v1+cell": {
     "cellMetadata": {
      "byteLimit": 2048000,
      "rowLimit": 10000
     },
     "inputWidgets": {},
     "nuid": "42d2ab12-2836-41f8-a706-8b7646b661c2",
     "showTitle": false,
     "tableResultSettingsMap": {},
     "title": ""
    }
   },
   "outputs": [
    {
     "output_type": "execute_result",
     "data": {
      "text/plain": [
       "DataFrame[num_affected_rows: bigint, num_updated_rows: bigint, num_deleted_rows: bigint, num_inserted_rows: bigint]"
      ]
     },
     "execution_count": 15,
     "metadata": {},
     "output_type": "execute_result"
    }
   ],
   "source": [
    "from pyspark.sql.types import StructType, StructField, StringType, IntegerType, DateType\n",
    "from datetime import date\n",
    "\n",
    "schema = StructType([\n",
    "  StructField(\"id\", IntegerType(), True),\n",
    "  StructField(\"firstName\", StringType(), True),\n",
    "  StructField(\"middleName\", StringType(), True),\n",
    "  StructField(\"lastName\", StringType(), True),\n",
    "  StructField(\"gender\", StringType(), True),\n",
    "  StructField(\"birthDate\", DateType(), True),\n",
    "  StructField(\"ssn\", StringType(), True),\n",
    "  StructField(\"salary\", IntegerType(), True)\n",
    "])\n",
    "\n",
    "data = [\n",
    "  (9999998, 'Billy', 'Tommie', 'Luppitt', 'M', date.fromisoformat('1992-09-17'), '953-38-9452', 55250),\n",
    "  (9999999, 'Elias', 'Cyril', 'Leadbetter', 'M', date.fromisoformat('1984-05-22'), '906-51-2137', 48500),\n",
    "  (10000000, 'Joshua', 'Chas', 'Broggio', 'M', date.fromisoformat('1968-07-22'), '988-61-6247', 90000),\n",
    "  (20000001, 'John', '', 'Doe', 'M', date.fromisoformat('1978-01-14'), '345-67-8901', 55500),\n",
    "  (20000002, 'Mary', '', 'Smith', 'F', date.fromisoformat('1982-10-29'), '456-78-9012', 98250),\n",
    "  (20000003, 'Jane', '', 'Doe', 'F', date.fromisoformat('1981-06-25'), '567-89-0123', 89900)\n",
    "]\n",
    "\n",
    "people_10m_updates = spark.createDataFrame(data, schema)\n",
    "people_10m_updates.createTempView(\"people_10m_updates\")\n",
    "\n",
    "# ...\n",
    "\n",
    "from delta.tables import DeltaTable\n",
    "\n",
    "deltaTable = DeltaTable.forName(spark, 'hexa_files.default.people_10m')\n",
    "\n",
    "(deltaTable.alias(\"people_10m\")\n",
    "  .merge(\n",
    "    people_10m_updates.alias(\"people_10m_updates\"),\n",
    "    \"people_10m.id = people_10m_updates.id\")\n",
    "  .whenMatchedUpdateAll()\n",
    "  .whenNotMatchedInsertAll()\n",
    "  .execute()\n",
    ")"
   ]
  },
  {
   "cell_type": "code",
   "execution_count": 0,
   "metadata": {
    "application/vnd.databricks.v1+cell": {
     "cellMetadata": {
      "byteLimit": 2048000,
      "rowLimit": 10000
     },
     "inputWidgets": {},
     "nuid": "005ad454-5b6a-4d42-bd56-dbe66b4f9640",
     "showTitle": false,
     "tableResultSettingsMap": {},
     "title": ""
    }
   },
   "outputs": [
    {
     "output_type": "display_data",
     "data": {
      "text/html": [
       "<style scoped>\n",
       "  .table-result-container {\n",
       "    max-height: 300px;\n",
       "    overflow: auto;\n",
       "  }\n",
       "  table, th, td {\n",
       "    border: 1px solid black;\n",
       "    border-collapse: collapse;\n",
       "  }\n",
       "  th, td {\n",
       "    padding: 5px;\n",
       "  }\n",
       "  th {\n",
       "    text-align: left;\n",
       "  }\n",
       "</style><div class='table-result-container'><table class='table-result'><thead style='background-color: white'><tr><th>id</th><th>firstName</th><th>middleName</th><th>lastName</th><th>gender</th><th>birthDate</th><th>ssn</th><th>salary</th></tr></thead><tbody><tr><td>9999999</td><td>Elias</td><td>Cyril</td><td>Leadbetter</td><td>M</td><td>1984-05-22T00:00:00.000Z</td><td>906-51-2137</td><td>48500</td></tr><tr><td>9999998</td><td>Billy</td><td>Tommie</td><td>Luppitt</td><td>M</td><td>1992-09-17T00:00:00.000Z</td><td>953-38-9452</td><td>55250</td></tr><tr><td>10000000</td><td>Joshua</td><td>Chas</td><td>Broggio</td><td>M</td><td>1968-07-22T00:00:00.000Z</td><td>988-61-6247</td><td>90000</td></tr><tr><td>20000002</td><td>Mary</td><td></td><td>Smith</td><td>F</td><td>1982-10-29T00:00:00.000Z</td><td>456-78-9012</td><td>98250</td></tr><tr><td>20000001</td><td>John</td><td></td><td>Doe</td><td>M</td><td>1978-01-14T00:00:00.000Z</td><td>345-67-8901</td><td>55500</td></tr><tr><td>20000003</td><td>Jane</td><td></td><td>Doe</td><td>F</td><td>1981-06-25T00:00:00.000Z</td><td>567-89-0123</td><td>89900</td></tr></tbody></table></div>"
      ]
     },
     "metadata": {
      "application/vnd.databricks.v1+output": {
       "addedWidgets": {},
       "aggData": [],
       "aggError": "",
       "aggOverflow": false,
       "aggSchema": [],
       "aggSeriesLimitReached": false,
       "aggType": "",
       "arguments": {},
       "columnCustomDisplayInfos": {},
       "data": [
        [
         9999999,
         "Elias",
         "Cyril",
         "Leadbetter",
         "M",
         "1984-05-22T00:00:00.000Z",
         "906-51-2137",
         48500
        ],
        [
         9999998,
         "Billy",
         "Tommie",
         "Luppitt",
         "M",
         "1992-09-17T00:00:00.000Z",
         "953-38-9452",
         55250
        ],
        [
         10000000,
         "Joshua",
         "Chas",
         "Broggio",
         "M",
         "1968-07-22T00:00:00.000Z",
         "988-61-6247",
         90000
        ],
        [
         20000002,
         "Mary",
         "",
         "Smith",
         "F",
         "1982-10-29T00:00:00.000Z",
         "456-78-9012",
         98250
        ],
        [
         20000001,
         "John",
         "",
         "Doe",
         "M",
         "1978-01-14T00:00:00.000Z",
         "345-67-8901",
         55500
        ],
        [
         20000003,
         "Jane",
         "",
         "Doe",
         "F",
         "1981-06-25T00:00:00.000Z",
         "567-89-0123",
         89900
        ]
       ],
       "datasetInfos": [],
       "dbfsResultPath": null,
       "isJsonSchema": true,
       "metadata": {},
       "overflow": false,
       "plotOptions": {
        "customPlotOptions": {},
        "displayType": "table",
        "pivotAggregation": null,
        "pivotColumns": null,
        "xColumns": null,
        "yColumns": null
       },
       "removedWidgets": [],
       "schema": [
        {
         "metadata": "{}",
         "name": "id",
         "type": "\"integer\""
        },
        {
         "metadata": "{}",
         "name": "firstName",
         "type": "\"string\""
        },
        {
         "metadata": "{}",
         "name": "middleName",
         "type": "\"string\""
        },
        {
         "metadata": "{}",
         "name": "lastName",
         "type": "\"string\""
        },
        {
         "metadata": "{}",
         "name": "gender",
         "type": "\"string\""
        },
        {
         "metadata": "{}",
         "name": "birthDate",
         "type": "\"timestamp\""
        },
        {
         "metadata": "{}",
         "name": "ssn",
         "type": "\"string\""
        },
        {
         "metadata": "{}",
         "name": "salary",
         "type": "\"integer\""
        }
       ],
       "type": "table"
      }
     },
     "output_type": "display_data"
    }
   ],
   "source": [
    "df = spark.read.table(\"hexa_files.default.people_10m\")\n",
    "df_filtered = df.filter(df[\"id\"] >= 9999998)\n",
    "display(df_filtered)"
   ]
  },
  {
   "cell_type": "code",
   "execution_count": 0,
   "metadata": {
    "application/vnd.databricks.v1+cell": {
     "cellMetadata": {
      "byteLimit": 2048000,
      "rowLimit": 10000
     },
     "inputWidgets": {},
     "nuid": "b4f5aab9-a2eb-457d-94d8-7f6fdea3d681",
     "showTitle": false,
     "tableResultSettingsMap": {},
     "title": ""
    }
   },
   "outputs": [
    {
     "output_type": "display_data",
     "data": {
      "text/html": [
       "<style scoped>\n",
       "  .table-result-container {\n",
       "    max-height: 300px;\n",
       "    overflow: auto;\n",
       "  }\n",
       "  table, th, td {\n",
       "    border: 1px solid black;\n",
       "    border-collapse: collapse;\n",
       "  }\n",
       "  th, td {\n",
       "    padding: 5px;\n",
       "  }\n",
       "  th {\n",
       "    text-align: left;\n",
       "  }\n",
       "</style><div class='table-result-container'><table class='table-result'><thead style='background-color: white'><tr><th>id</th><th>firstName</th><th>middleName</th><th>lastName</th><th>gender</th><th>birthDate</th><th>ssn</th><th>salary</th></tr></thead><tbody><tr><td>9999999</td><td>Elias</td><td>Cyril</td><td>Leadbetter</td><td>M</td><td>1984-05-22T00:00:00.000Z</td><td>906-51-2137</td><td>48500</td></tr><tr><td>9999998</td><td>Billy</td><td>Tommie</td><td>Luppitt</td><td>M</td><td>1992-09-17T00:00:00.000Z</td><td>953-38-9452</td><td>55250</td></tr><tr><td>10000000</td><td>Joshua</td><td>Chas</td><td>Broggio</td><td>M</td><td>1968-07-22T00:00:00.000Z</td><td>988-61-6247</td><td>90000</td></tr><tr><td>20000002</td><td>Mary</td><td></td><td>Smith</td><td>F</td><td>1982-10-29T00:00:00.000Z</td><td>456-78-9012</td><td>98250</td></tr><tr><td>20000001</td><td>John</td><td></td><td>Doe</td><td>M</td><td>1978-01-14T00:00:00.000Z</td><td>345-67-8901</td><td>55500</td></tr><tr><td>20000003</td><td>Jane</td><td></td><td>Doe</td><td>F</td><td>1981-06-25T00:00:00.000Z</td><td>567-89-0123</td><td>89900</td></tr></tbody></table></div>"
      ]
     },
     "metadata": {
      "application/vnd.databricks.v1+output": {
       "addedWidgets": {},
       "aggData": [],
       "aggError": "",
       "aggOverflow": false,
       "aggSchema": [],
       "aggSeriesLimitReached": false,
       "aggType": "",
       "arguments": {},
       "columnCustomDisplayInfos": {},
       "data": [
        [
         9999999,
         "Elias",
         "Cyril",
         "Leadbetter",
         "M",
         "1984-05-22T00:00:00.000Z",
         "906-51-2137",
         48500
        ],
        [
         9999998,
         "Billy",
         "Tommie",
         "Luppitt",
         "M",
         "1992-09-17T00:00:00.000Z",
         "953-38-9452",
         55250
        ],
        [
         10000000,
         "Joshua",
         "Chas",
         "Broggio",
         "M",
         "1968-07-22T00:00:00.000Z",
         "988-61-6247",
         90000
        ],
        [
         20000002,
         "Mary",
         "",
         "Smith",
         "F",
         "1982-10-29T00:00:00.000Z",
         "456-78-9012",
         98250
        ],
        [
         20000001,
         "John",
         "",
         "Doe",
         "M",
         "1978-01-14T00:00:00.000Z",
         "345-67-8901",
         55500
        ],
        [
         20000003,
         "Jane",
         "",
         "Doe",
         "F",
         "1981-06-25T00:00:00.000Z",
         "567-89-0123",
         89900
        ]
       ],
       "datasetInfos": [],
       "dbfsResultPath": null,
       "isJsonSchema": true,
       "metadata": {},
       "overflow": false,
       "plotOptions": {
        "customPlotOptions": {},
        "displayType": "table",
        "pivotAggregation": null,
        "pivotColumns": null,
        "xColumns": null,
        "yColumns": null
       },
       "removedWidgets": [],
       "schema": [
        {
         "metadata": "{}",
         "name": "id",
         "type": "\"integer\""
        },
        {
         "metadata": "{}",
         "name": "firstName",
         "type": "\"string\""
        },
        {
         "metadata": "{}",
         "name": "middleName",
         "type": "\"string\""
        },
        {
         "metadata": "{}",
         "name": "lastName",
         "type": "\"string\""
        },
        {
         "metadata": "{}",
         "name": "gender",
         "type": "\"string\""
        },
        {
         "metadata": "{}",
         "name": "birthDate",
         "type": "\"timestamp\""
        },
        {
         "metadata": "{}",
         "name": "ssn",
         "type": "\"string\""
        },
        {
         "metadata": "{}",
         "name": "salary",
         "type": "\"integer\""
        }
       ],
       "type": "table"
      }
     },
     "output_type": "display_data"
    }
   ],
   "source": [
    "people_df = spark.read.table(\"hexa_files.default.people_10m\")\n",
    "display(people_df)"
   ]
  },
  {
   "cell_type": "code",
   "execution_count": 0,
   "metadata": {
    "application/vnd.databricks.v1+cell": {
     "cellMetadata": {
      "byteLimit": 2048000,
      "rowLimit": 10000
     },
     "inputWidgets": {},
     "nuid": "a5fc96e8-9b18-4856-b45a-97903b7414c0",
     "showTitle": false,
     "tableResultSettingsMap": {},
     "title": ""
    }
   },
   "outputs": [],
   "source": [
    "df.write.mode(\"append\").saveAsTable(\"hexa_files.default.people_10m\")"
   ]
  },
  {
   "cell_type": "code",
   "execution_count": 0,
   "metadata": {
    "application/vnd.databricks.v1+cell": {
     "cellMetadata": {
      "byteLimit": 2048000,
      "rowLimit": 10000
     },
     "inputWidgets": {},
     "nuid": "b8812f0c-c3a7-4098-b456-06adbb8af309",
     "showTitle": false,
     "tableResultSettingsMap": {},
     "title": ""
    }
   },
   "outputs": [
    {
     "output_type": "execute_result",
     "data": {
      "text/plain": [
       "DataFrame[num_affected_rows: bigint]"
      ]
     },
     "execution_count": 21,
     "metadata": {},
     "output_type": "execute_result"
    }
   ],
   "source": [
    "from delta.tables import *\n",
    "from pyspark.sql.functions import *\n",
    "\n",
    "deltaTable = DeltaTable.forName(spark, \"hexa_files.default.people_10m\")\n",
    "\n",
    "# Declare the predicate by using a SQL-formatted string.\n",
    "deltaTable.update(\n",
    "  condition = \"gender = 'F'\",\n",
    "  set = { \"gender\": \"'Female'\" }\n",
    ")\n",
    "\n",
    "# Declare the predicate by using Spark SQL functions.\n",
    "deltaTable.update(\n",
    "  condition = col('gender') == 'M',\n",
    "  set = { 'gender': lit('Male') }\n",
    ")"
   ]
  },
  {
   "cell_type": "code",
   "execution_count": 0,
   "metadata": {
    "application/vnd.databricks.v1+cell": {
     "cellMetadata": {
      "byteLimit": 2048000,
      "rowLimit": 10000
     },
     "inputWidgets": {},
     "nuid": "da9b3817-32f3-48c4-9f51-c0df41bc09d9",
     "showTitle": false,
     "tableResultSettingsMap": {},
     "title": ""
    }
   },
   "outputs": [
    {
     "output_type": "execute_result",
     "data": {
      "text/plain": [
       "DataFrame[num_affected_rows: bigint]"
      ]
     },
     "execution_count": 22,
     "metadata": {},
     "output_type": "execute_result"
    }
   ],
   "source": [
    "from delta.tables import *\n",
    "from pyspark.sql.functions import *\n",
    "\n",
    "deltaTable = DeltaTable.forName(spark, \"hexa_files.default.people_10m\")\n",
    "\n",
    "# Declare the predicate by using a SQL-formatted string.\n",
    "deltaTable.delete(\"birthDate < '1955-01-01'\")\n",
    "\n",
    "# Declare the predicate by using Spark SQL functions.\n",
    "deltaTable.delete(col('birthDate') < '1960-01-01')"
   ]
  },
  {
   "cell_type": "code",
   "execution_count": 0,
   "metadata": {
    "application/vnd.databricks.v1+cell": {
     "cellMetadata": {
      "byteLimit": 2048000,
      "rowLimit": 10000
     },
     "inputWidgets": {},
     "nuid": "b93f7d0b-56f1-417b-b0a4-a366c0864a4e",
     "showTitle": false,
     "tableResultSettingsMap": {},
     "title": ""
    }
   },
   "outputs": [
    {
     "output_type": "display_data",
     "data": {
      "text/html": [
       "<style scoped>\n",
       "  .table-result-container {\n",
       "    max-height: 300px;\n",
       "    overflow: auto;\n",
       "  }\n",
       "  table, th, td {\n",
       "    border: 1px solid black;\n",
       "    border-collapse: collapse;\n",
       "  }\n",
       "  th, td {\n",
       "    padding: 5px;\n",
       "  }\n",
       "  th {\n",
       "    text-align: left;\n",
       "  }\n",
       "</style><div class='table-result-container'><table class='table-result'><thead style='background-color: white'><tr><th>version</th><th>timestamp</th><th>userId</th><th>userName</th><th>operation</th><th>operationParameters</th><th>job</th><th>notebook</th><th>clusterId</th><th>readVersion</th><th>isolationLevel</th><th>isBlindAppend</th><th>operationMetrics</th><th>userMetadata</th><th>engineInfo</th></tr></thead><tbody><tr><td>9</td><td>2025-08-12T16:40:12.000Z</td><td>144409217163733</td><td>azuser4019_mml.local@techademy.com</td><td>DELETE</td><td>Map(predicate -> [\"(birthDate#12733 < 1960-01-01 00:00:00)\"])</td><td>null</td><td>null</td><td>0812-152710-goyeqgho-v2n</td><td>8</td><td>WriteSerializable</td><td>false</td><td>Map(numRemovedFiles -> 0, numRemovedBytes -> 0, numCopiedRows -> 0, numDeletionVectorsAdded -> 0, numDeletionVectorsRemoved -> 0, numAddedChangeFiles -> 0, executionTimeMs -> 158, numDeletionVectorsUpdated -> 0, numDeletedRows -> 0, scanTimeMs -> 158, numAddedFiles -> 0, numAddedBytes -> 0, rewriteTimeMs -> 0)</td><td>null</td><td>Databricks-Runtime/17.0.x-photon-scala2.13</td></tr><tr><td>8</td><td>2025-08-12T16:40:10.000Z</td><td>144409217163733</td><td>azuser4019_mml.local@techademy.com</td><td>DELETE</td><td>Map(predicate -> [\"(birthDate#12637 < 1955-01-01 00:00:00)\"])</td><td>null</td><td>null</td><td>0812-152710-goyeqgho-v2n</td><td>7</td><td>WriteSerializable</td><td>false</td><td>Map(numRemovedFiles -> 0, numRemovedBytes -> 0, numCopiedRows -> 0, numDeletionVectorsAdded -> 0, numDeletionVectorsRemoved -> 0, numAddedChangeFiles -> 0, executionTimeMs -> 167, numDeletionVectorsUpdated -> 0, numDeletedRows -> 0, scanTimeMs -> 165, numAddedFiles -> 0, numAddedBytes -> 0, rewriteTimeMs -> 0)</td><td>null</td><td>Databricks-Runtime/17.0.x-photon-scala2.13</td></tr><tr><td>7</td><td>2025-08-12T16:39:41.000Z</td><td>144409217163733</td><td>azuser4019_mml.local@techademy.com</td><td>OPTIMIZE</td><td>Map(predicate -> [], auto -> true, clusterBy -> [], zOrderBy -> [], batchId -> 0)</td><td>null</td><td>null</td><td>0812-152710-goyeqgho-v2n</td><td>6</td><td>SnapshotIsolation</td><td>false</td><td>Map(numRemovedFiles -> 2, numRemovedBytes -> 5001, p25FileSize -> 2561, numDeletionVectorsRemoved -> 1, minFileSize -> 2561, numAddedFiles -> 1, maxFileSize -> 2561, p75FileSize -> 2561, p50FileSize -> 2561, numAddedBytes -> 2561)</td><td>null</td><td>Databricks-Runtime/17.0.x-photon-scala2.13</td></tr><tr><td>6</td><td>2025-08-12T16:39:39.000Z</td><td>144409217163733</td><td>azuser4019_mml.local@techademy.com</td><td>UPDATE</td><td>Map(predicate -> [\"(gender#11925 = M)\"])</td><td>null</td><td>null</td><td>0812-152710-goyeqgho-v2n</td><td>4</td><td>WriteSerializable</td><td>false</td><td>Map(numRemovedFiles -> 5, numRemovedBytes -> 10474, numCopiedRows -> 0, numDeletionVectorsAdded -> 0, numDeletionVectorsRemoved -> 1, numAddedChangeFiles -> 0, executionTimeMs -> 1565, conflictDetectionTimeMs -> 322, numDeletionVectorsUpdated -> 0, scanTimeMs -> 637, numAddedFiles -> 1, numUpdatedRows -> 8, numAddedBytes -> 2449, rewriteTimeMs -> 928)</td><td>null</td><td>Databricks-Runtime/17.0.x-photon-scala2.13</td></tr><tr><td>5</td><td>2025-08-12T16:39:37.000Z</td><td>144409217163733</td><td>azuser4019_mml.local@techademy.com</td><td>OPTIMIZE</td><td>Map(predicate -> [], auto -> true, clusterBy -> [], zOrderBy -> [], batchId -> 0)</td><td>null</td><td>null</td><td>0812-152710-goyeqgho-v2n</td><td>4</td><td>SnapshotIsolation</td><td>false</td><td>Map(numRemovedFiles -> 6, numRemovedBytes -> 12771, p25FileSize -> 2552, numDeletionVectorsRemoved -> 1, minFileSize -> 2552, numAddedFiles -> 1, maxFileSize -> 2552, p75FileSize -> 2552, p50FileSize -> 2552, numAddedBytes -> 2552)</td><td>null</td><td>Databricks-Runtime/17.0.x-photon-scala2.13</td></tr><tr><td>4</td><td>2025-08-12T16:39:36.000Z</td><td>144409217163733</td><td>azuser4019_mml.local@techademy.com</td><td>UPDATE</td><td>Map(predicate -> [\"(gender#11439 = F)\"])</td><td>null</td><td>null</td><td>0812-152710-goyeqgho-v2n</td><td>3</td><td>WriteSerializable</td><td>false</td><td>Map(numRemovedFiles -> 2, numRemovedBytes -> 3975, numCopiedRows -> 0, numDeletionVectorsAdded -> 1, numDeletionVectorsRemoved -> 0, numAddedChangeFiles -> 0, executionTimeMs -> 2477, numDeletionVectorsUpdated -> 0, scanTimeMs -> 1096, numAddedFiles -> 1, numUpdatedRows -> 4, numAddedBytes -> 2297, rewriteTimeMs -> 1375)</td><td>null</td><td>Databricks-Runtime/17.0.x-photon-scala2.13</td></tr><tr><td>3</td><td>2025-08-12T16:39:06.000Z</td><td>144409217163733</td><td>azuser4019_mml.local@techademy.com</td><td>WRITE</td><td>Map(mode -> Append, statsOnLoad -> true, partitionBy -> [])</td><td>null</td><td>null</td><td>0812-152710-goyeqgho-v2n</td><td>2</td><td>WriteSerializable</td><td>false</td><td>Map(numFiles -> 1, numOutputRows -> 6, numOutputBytes -> 2368)</td><td>null</td><td>Databricks-Runtime/17.0.x-photon-scala2.13</td></tr><tr><td>2</td><td>2025-08-12T16:35:49.000Z</td><td>144409217163733</td><td>azuser4019_mml.local@techademy.com</td><td>MERGE</td><td>Map(predicate -> [\"(id#10601 = id#10633)\"], clusterBy -> [], matchedPredicates -> [{\"actionType\":\"update\"}], statsOnLoad -> true, notMatchedBySourcePredicates -> [], notMatchedPredicates -> [{\"actionType\":\"insert\"}])</td><td>null</td><td>null</td><td>0812-152710-goyeqgho-v2n</td><td>1</td><td>WriteSerializable</td><td>false</td><td>Map(numTargetRowsCopied -> 0, numTargetRowsDeleted -> 0, numTargetFilesAdded -> 6, numTargetBytesAdded -> 12081, numTargetBytesRemoved -> 0, numTargetDeletionVectorsAdded -> 0, numTargetRowsMatchedUpdated -> 0, executionTimeMs -> 2415, materializeSourceTimeMs -> 242, numTargetRowsInserted -> 6, numTargetRowsMatchedDeleted -> 0, numTargetDeletionVectorsUpdated -> 0, scanTimeMs -> 1016, numTargetRowsUpdated -> 0, numOutputRows -> 6, numTargetDeletionVectorsRemoved -> 0, numTargetRowsNotMatchedBySourceUpdated -> 0, numTargetChangeFilesAdded -> 0, numSourceRows -> 6, numTargetFilesRemoved -> 0, numTargetRowsNotMatchedBySourceDeleted -> 0, rewriteTimeMs -> 1106)</td><td>null</td><td>Databricks-Runtime/17.0.x-photon-scala2.13</td></tr><tr><td>1</td><td>2025-08-12T16:33:08.000Z</td><td>144409217163733</td><td>azuser4019_mml.local@techademy.com</td><td>CREATE OR REPLACE TABLE</td><td>Map(partitionBy -> [], clusterBy -> [], description -> null, isManaged -> true, properties -> {\"delta.enableDeletionVectors\":\"true\"}, statsOnLoad -> false)</td><td>null</td><td>null</td><td>0812-152710-goyeqgho-v2n</td><td>0</td><td>WriteSerializable</td><td>false</td><td>Map()</td><td>null</td><td>Databricks-Runtime/17.0.x-photon-scala2.13</td></tr><tr><td>0</td><td>2025-08-12T16:30:37.000Z</td><td>144409217163733</td><td>azuser4019_mml.local@techademy.com</td><td>CREATE OR REPLACE TABLE AS SELECT</td><td>Map(partitionBy -> [], clusterBy -> [], description -> null, isManaged -> true, properties -> {\"delta.enableDeletionVectors\":\"true\"}, statsOnLoad -> true)</td><td>null</td><td>null</td><td>0812-152710-goyeqgho-v2n</td><td>null</td><td>WriteSerializable</td><td>false</td><td>Map(numFiles -> 1, numRemovedFiles -> 0, numRemovedBytes -> 0, numOutputRows -> 1000, numOutputBytes -> 46030)</td><td>null</td><td>Databricks-Runtime/17.0.x-photon-scala2.13</td></tr></tbody></table></div>"
      ]
     },
     "metadata": {
      "application/vnd.databricks.v1+output": {
       "addedWidgets": {},
       "aggData": [],
       "aggError": "",
       "aggOverflow": false,
       "aggSchema": [],
       "aggSeriesLimitReached": false,
       "aggType": "",
       "arguments": {},
       "columnCustomDisplayInfos": {},
       "data": [
        [
         9,
         "2025-08-12T16:40:12.000Z",
         "144409217163733",
         "azuser4019_mml.local@techademy.com",
         "DELETE",
         {
          "predicate": "[\"(birthDate#12733 < 1960-01-01 00:00:00)\"]"
         },
         null,
         null,
         "0812-152710-goyeqgho-v2n",
         8,
         "WriteSerializable",
         false,
         {
          "executionTimeMs": "158",
          "numAddedBytes": "0",
          "numAddedChangeFiles": "0",
          "numAddedFiles": "0",
          "numCopiedRows": "0",
          "numDeletedRows": "0",
          "numDeletionVectorsAdded": "0",
          "numDeletionVectorsRemoved": "0",
          "numDeletionVectorsUpdated": "0",
          "numRemovedBytes": "0",
          "numRemovedFiles": "0",
          "rewriteTimeMs": "0",
          "scanTimeMs": "158"
         },
         null,
         "Databricks-Runtime/17.0.x-photon-scala2.13"
        ],
        [
         8,
         "2025-08-12T16:40:10.000Z",
         "144409217163733",
         "azuser4019_mml.local@techademy.com",
         "DELETE",
         {
          "predicate": "[\"(birthDate#12637 < 1955-01-01 00:00:00)\"]"
         },
         null,
         null,
         "0812-152710-goyeqgho-v2n",
         7,
         "WriteSerializable",
         false,
         {
          "executionTimeMs": "167",
          "numAddedBytes": "0",
          "numAddedChangeFiles": "0",
          "numAddedFiles": "0",
          "numCopiedRows": "0",
          "numDeletedRows": "0",
          "numDeletionVectorsAdded": "0",
          "numDeletionVectorsRemoved": "0",
          "numDeletionVectorsUpdated": "0",
          "numRemovedBytes": "0",
          "numRemovedFiles": "0",
          "rewriteTimeMs": "0",
          "scanTimeMs": "165"
         },
         null,
         "Databricks-Runtime/17.0.x-photon-scala2.13"
        ],
        [
         7,
         "2025-08-12T16:39:41.000Z",
         "144409217163733",
         "azuser4019_mml.local@techademy.com",
         "OPTIMIZE",
         {
          "auto": "true",
          "batchId": "0",
          "clusterBy": "[]",
          "predicate": "[]",
          "zOrderBy": "[]"
         },
         null,
         null,
         "0812-152710-goyeqgho-v2n",
         6,
         "SnapshotIsolation",
         false,
         {
          "maxFileSize": "2561",
          "minFileSize": "2561",
          "numAddedBytes": "2561",
          "numAddedFiles": "1",
          "numDeletionVectorsRemoved": "1",
          "numRemovedBytes": "5001",
          "numRemovedFiles": "2",
          "p25FileSize": "2561",
          "p50FileSize": "2561",
          "p75FileSize": "2561"
         },
         null,
         "Databricks-Runtime/17.0.x-photon-scala2.13"
        ],
        [
         6,
         "2025-08-12T16:39:39.000Z",
         "144409217163733",
         "azuser4019_mml.local@techademy.com",
         "UPDATE",
         {
          "predicate": "[\"(gender#11925 = M)\"]"
         },
         null,
         null,
         "0812-152710-goyeqgho-v2n",
         4,
         "WriteSerializable",
         false,
         {
          "conflictDetectionTimeMs": "322",
          "executionTimeMs": "1565",
          "numAddedBytes": "2449",
          "numAddedChangeFiles": "0",
          "numAddedFiles": "1",
          "numCopiedRows": "0",
          "numDeletionVectorsAdded": "0",
          "numDeletionVectorsRemoved": "1",
          "numDeletionVectorsUpdated": "0",
          "numRemovedBytes": "10474",
          "numRemovedFiles": "5",
          "numUpdatedRows": "8",
          "rewriteTimeMs": "928",
          "scanTimeMs": "637"
         },
         null,
         "Databricks-Runtime/17.0.x-photon-scala2.13"
        ],
        [
         5,
         "2025-08-12T16:39:37.000Z",
         "144409217163733",
         "azuser4019_mml.local@techademy.com",
         "OPTIMIZE",
         {
          "auto": "true",
          "batchId": "0",
          "clusterBy": "[]",
          "predicate": "[]",
          "zOrderBy": "[]"
         },
         null,
         null,
         "0812-152710-goyeqgho-v2n",
         4,
         "SnapshotIsolation",
         false,
         {
          "maxFileSize": "2552",
          "minFileSize": "2552",
          "numAddedBytes": "2552",
          "numAddedFiles": "1",
          "numDeletionVectorsRemoved": "1",
          "numRemovedBytes": "12771",
          "numRemovedFiles": "6",
          "p25FileSize": "2552",
          "p50FileSize": "2552",
          "p75FileSize": "2552"
         },
         null,
         "Databricks-Runtime/17.0.x-photon-scala2.13"
        ],
        [
         4,
         "2025-08-12T16:39:36.000Z",
         "144409217163733",
         "azuser4019_mml.local@techademy.com",
         "UPDATE",
         {
          "predicate": "[\"(gender#11439 = F)\"]"
         },
         null,
         null,
         "0812-152710-goyeqgho-v2n",
         3,
         "WriteSerializable",
         false,
         {
          "executionTimeMs": "2477",
          "numAddedBytes": "2297",
          "numAddedChangeFiles": "0",
          "numAddedFiles": "1",
          "numCopiedRows": "0",
          "numDeletionVectorsAdded": "1",
          "numDeletionVectorsRemoved": "0",
          "numDeletionVectorsUpdated": "0",
          "numRemovedBytes": "3975",
          "numRemovedFiles": "2",
          "numUpdatedRows": "4",
          "rewriteTimeMs": "1375",
          "scanTimeMs": "1096"
         },
         null,
         "Databricks-Runtime/17.0.x-photon-scala2.13"
        ],
        [
         3,
         "2025-08-12T16:39:06.000Z",
         "144409217163733",
         "azuser4019_mml.local@techademy.com",
         "WRITE",
         {
          "mode": "Append",
          "partitionBy": "[]",
          "statsOnLoad": "true"
         },
         null,
         null,
         "0812-152710-goyeqgho-v2n",
         2,
         "WriteSerializable",
         false,
         {
          "numFiles": "1",
          "numOutputBytes": "2368",
          "numOutputRows": "6"
         },
         null,
         "Databricks-Runtime/17.0.x-photon-scala2.13"
        ],
        [
         2,
         "2025-08-12T16:35:49.000Z",
         "144409217163733",
         "azuser4019_mml.local@techademy.com",
         "MERGE",
         {
          "clusterBy": "[]",
          "matchedPredicates": "[{\"actionType\":\"update\"}]",
          "notMatchedBySourcePredicates": "[]",
          "notMatchedPredicates": "[{\"actionType\":\"insert\"}]",
          "predicate": "[\"(id#10601 = id#10633)\"]",
          "statsOnLoad": "true"
         },
         null,
         null,
         "0812-152710-goyeqgho-v2n",
         1,
         "WriteSerializable",
         false,
         {
          "executionTimeMs": "2415",
          "materializeSourceTimeMs": "242",
          "numOutputRows": "6",
          "numSourceRows": "6",
          "numTargetBytesAdded": "12081",
          "numTargetBytesRemoved": "0",
          "numTargetChangeFilesAdded": "0",
          "numTargetDeletionVectorsAdded": "0",
          "numTargetDeletionVectorsRemoved": "0",
          "numTargetDeletionVectorsUpdated": "0",
          "numTargetFilesAdded": "6",
          "numTargetFilesRemoved": "0",
          "numTargetRowsCopied": "0",
          "numTargetRowsDeleted": "0",
          "numTargetRowsInserted": "6",
          "numTargetRowsMatchedDeleted": "0",
          "numTargetRowsMatchedUpdated": "0",
          "numTargetRowsNotMatchedBySourceDeleted": "0",
          "numTargetRowsNotMatchedBySourceUpdated": "0",
          "numTargetRowsUpdated": "0",
          "rewriteTimeMs": "1106",
          "scanTimeMs": "1016"
         },
         null,
         "Databricks-Runtime/17.0.x-photon-scala2.13"
        ],
        [
         1,
         "2025-08-12T16:33:08.000Z",
         "144409217163733",
         "azuser4019_mml.local@techademy.com",
         "CREATE OR REPLACE TABLE",
         {
          "clusterBy": "[]",
          "description": null,
          "isManaged": "true",
          "partitionBy": "[]",
          "properties": "{\"delta.enableDeletionVectors\":\"true\"}",
          "statsOnLoad": "false"
         },
         null,
         null,
         "0812-152710-goyeqgho-v2n",
         0,
         "WriteSerializable",
         false,
         {},
         null,
         "Databricks-Runtime/17.0.x-photon-scala2.13"
        ],
        [
         0,
         "2025-08-12T16:30:37.000Z",
         "144409217163733",
         "azuser4019_mml.local@techademy.com",
         "CREATE OR REPLACE TABLE AS SELECT",
         {
          "clusterBy": "[]",
          "description": null,
          "isManaged": "true",
          "partitionBy": "[]",
          "properties": "{\"delta.enableDeletionVectors\":\"true\"}",
          "statsOnLoad": "true"
         },
         null,
         null,
         "0812-152710-goyeqgho-v2n",
         null,
         "WriteSerializable",
         false,
         {
          "numFiles": "1",
          "numOutputBytes": "46030",
          "numOutputRows": "1000",
          "numRemovedBytes": "0",
          "numRemovedFiles": "0"
         },
         null,
         "Databricks-Runtime/17.0.x-photon-scala2.13"
        ]
       ],
       "datasetInfos": [],
       "dbfsResultPath": null,
       "isJsonSchema": true,
       "metadata": {},
       "overflow": false,
       "plotOptions": {
        "customPlotOptions": {},
        "displayType": "table",
        "pivotAggregation": null,
        "pivotColumns": null,
        "xColumns": null,
        "yColumns": null
       },
       "removedWidgets": [],
       "schema": [
        {
         "metadata": "{}",
         "name": "version",
         "type": "\"long\""
        },
        {
         "metadata": "{}",
         "name": "timestamp",
         "type": "\"timestamp\""
        },
        {
         "metadata": "{}",
         "name": "userId",
         "type": "\"string\""
        },
        {
         "metadata": "{}",
         "name": "userName",
         "type": "\"string\""
        },
        {
         "metadata": "{}",
         "name": "operation",
         "type": "\"string\""
        },
        {
         "metadata": "{}",
         "name": "operationParameters",
         "type": "{\"keyType\":\"string\",\"type\":\"map\",\"valueContainsNull\":true,\"valueType\":\"string\"}"
        },
        {
         "metadata": "{}",
         "name": "job",
         "type": "{\"fields\":[{\"metadata\":{},\"name\":\"jobId\",\"nullable\":true,\"type\":\"string\"},{\"metadata\":{},\"name\":\"jobName\",\"nullable\":true,\"type\":\"string\"},{\"metadata\":{},\"name\":\"jobRunId\",\"nullable\":true,\"type\":\"string\"},{\"metadata\":{},\"name\":\"runId\",\"nullable\":true,\"type\":\"string\"},{\"metadata\":{},\"name\":\"jobOwnerId\",\"nullable\":true,\"type\":\"string\"},{\"metadata\":{},\"name\":\"triggerType\",\"nullable\":true,\"type\":\"string\"}],\"type\":\"struct\"}"
        },
        {
         "metadata": "{}",
         "name": "notebook",
         "type": "{\"fields\":[{\"metadata\":{},\"name\":\"notebookId\",\"nullable\":true,\"type\":\"string\"}],\"type\":\"struct\"}"
        },
        {
         "metadata": "{}",
         "name": "clusterId",
         "type": "\"string\""
        },
        {
         "metadata": "{}",
         "name": "readVersion",
         "type": "\"long\""
        },
        {
         "metadata": "{}",
         "name": "isolationLevel",
         "type": "\"string\""
        },
        {
         "metadata": "{}",
         "name": "isBlindAppend",
         "type": "\"boolean\""
        },
        {
         "metadata": "{}",
         "name": "operationMetrics",
         "type": "{\"keyType\":\"string\",\"type\":\"map\",\"valueContainsNull\":true,\"valueType\":\"string\"}"
        },
        {
         "metadata": "{}",
         "name": "userMetadata",
         "type": "\"string\""
        },
        {
         "metadata": "{}",
         "name": "engineInfo",
         "type": "\"string\""
        }
       ],
       "type": "table"
      }
     },
     "output_type": "display_data"
    }
   ],
   "source": [
    "from delta.tables import *\n",
    "\n",
    "deltaTable = DeltaTable.forName(spark, \"hexa_files.default.people_10m\")\n",
    "display(deltaTable.history())"
   ]
  }
 ],
 "metadata": {
  "application/vnd.databricks.v1+notebook": {
   "computePreferences": null,
   "dashboards": [],
   "environmentMetadata": {
    "base_environment": "",
    "environment_version": "2"
   },
   "inputWidgetPreferences": null,
   "language": "python",
   "notebookMetadata": {
    "mostRecentlyExecutedCommandWithImplicitDF": {
     "commandId": 8803949909663912,
     "dataframes": [
      "_sqldf"
     ]
    },
    "pythonIndentUnit": 4
   },
   "notebookName": "Casestydy_Azure",
   "widgets": {}
  },
  "language_info": {
   "name": "python"
  }
 },
 "nbformat": 4,
 "nbformat_minor": 0
}